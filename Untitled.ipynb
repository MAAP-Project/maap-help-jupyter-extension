{
 "cells": [
  {
   "cell_type": "code",
   "execution_count": 4,
   "id": "666f5d6b-8e77-4604-8cf3-40066a9a7566",
   "metadata": {},
   "outputs": [],
   "source": [
    "test=\"x\""
   ]
  },
  {
   "cell_type": "code",
   "execution_count": null,
   "id": "b109bbcf-3eca-463d-9f85-4bef26601be8",
   "metadata": {},
   "outputs": [],
   "source": []
  }
 ],
 "metadata": {
  "kernelspec": {
   "display_name": "Python 3",
   "language": "python",
   "name": "python3"
  },
  "language_info": {
   "codemirror_mode": {
    "name": "ipython",
    "version": 3
   },
   "file_extension": ".py",
   "mimetype": "text/x-python",
   "name": "python",
   "nbconvert_exporter": "python",
   "pygments_lexer": "ipython3",
   "version": "3.7.12"
  }
 },
 "nbformat": 4,
 "nbformat_minor": 5
}
